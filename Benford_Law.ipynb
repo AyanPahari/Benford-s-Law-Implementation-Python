{
 "cells": [
  {
   "cell_type": "markdown",
   "id": "9fe24885",
   "metadata": {},
   "source": [
    "# <center>Benford's Law Implementation"
   ]
  },
  {
   "cell_type": "markdown",
   "id": "ac10b1f1",
   "metadata": {},
   "source": [
    "### Importing the necessary libraries"
   ]
  },
  {
   "cell_type": "code",
   "execution_count": 1,
   "id": "e558246a",
   "metadata": {},
   "outputs": [],
   "source": [
    "import numpy as np\n",
    "import pandas as pd\n",
    "import seaborn as sns\n",
    "import matplotlib.pyplot as plt\n",
    "import math\n",
    "from scipy.stats import chisquare"
   ]
  },
  {
   "cell_type": "markdown",
   "id": "b4439026",
   "metadata": {},
   "source": [
    "### Loading the data"
   ]
  },
  {
   "cell_type": "code",
   "execution_count": 2,
   "id": "d20a7772",
   "metadata": {},
   "outputs": [
    {
     "data": {
      "text/html": [
       "<div>\n",
       "<style scoped>\n",
       "    .dataframe tbody tr th:only-of-type {\n",
       "        vertical-align: middle;\n",
       "    }\n",
       "\n",
       "    .dataframe tbody tr th {\n",
       "        vertical-align: top;\n",
       "    }\n",
       "\n",
       "    .dataframe thead th {\n",
       "        text-align: right;\n",
       "    }\n",
       "</style>\n",
       "<table border=\"1\" class=\"dataframe\">\n",
       "  <thead>\n",
       "    <tr style=\"text-align: right;\">\n",
       "      <th></th>\n",
       "      <th>State</th>\n",
       "      <th>City</th>\n",
       "      <th>Population</th>\n",
       "    </tr>\n",
       "  </thead>\n",
       "  <tbody>\n",
       "    <tr>\n",
       "      <th>0</th>\n",
       "      <td>Alabama</td>\n",
       "      <td>Autauga County</td>\n",
       "      <td>54571</td>\n",
       "    </tr>\n",
       "    <tr>\n",
       "      <th>1</th>\n",
       "      <td>Alabama</td>\n",
       "      <td>Baldwin County</td>\n",
       "      <td>182265</td>\n",
       "    </tr>\n",
       "    <tr>\n",
       "      <th>2</th>\n",
       "      <td>Alabama</td>\n",
       "      <td>Barbour County</td>\n",
       "      <td>27457</td>\n",
       "    </tr>\n",
       "    <tr>\n",
       "      <th>3</th>\n",
       "      <td>Alabama</td>\n",
       "      <td>NaN</td>\n",
       "      <td>22915</td>\n",
       "    </tr>\n",
       "    <tr>\n",
       "      <th>4</th>\n",
       "      <td>Alabama</td>\n",
       "      <td>Blount County</td>\n",
       "      <td>57322</td>\n",
       "    </tr>\n",
       "    <tr>\n",
       "      <th>...</th>\n",
       "      <td>...</td>\n",
       "      <td>...</td>\n",
       "      <td>...</td>\n",
       "    </tr>\n",
       "    <tr>\n",
       "      <th>3137</th>\n",
       "      <td>Wyoming</td>\n",
       "      <td>Sweetwater County</td>\n",
       "      <td>43806</td>\n",
       "    </tr>\n",
       "    <tr>\n",
       "      <th>3138</th>\n",
       "      <td>Wyoming</td>\n",
       "      <td>Teton County</td>\n",
       "      <td>21294</td>\n",
       "    </tr>\n",
       "    <tr>\n",
       "      <th>3139</th>\n",
       "      <td>Wyoming</td>\n",
       "      <td>Uinta County</td>\n",
       "      <td>21118</td>\n",
       "    </tr>\n",
       "    <tr>\n",
       "      <th>3140</th>\n",
       "      <td>Wyoming</td>\n",
       "      <td>Washakie County</td>\n",
       "      <td>8533</td>\n",
       "    </tr>\n",
       "    <tr>\n",
       "      <th>3141</th>\n",
       "      <td>Wyoming</td>\n",
       "      <td>Weston County</td>\n",
       "      <td>7208</td>\n",
       "    </tr>\n",
       "  </tbody>\n",
       "</table>\n",
       "<p>3142 rows × 3 columns</p>\n",
       "</div>"
      ],
      "text/plain": [
       "        State               City  Population\n",
       "0     Alabama     Autauga County       54571\n",
       "1     Alabama     Baldwin County      182265\n",
       "2     Alabama     Barbour County       27457\n",
       "3     Alabama                NaN       22915\n",
       "4     Alabama      Blount County       57322\n",
       "...       ...                ...         ...\n",
       "3137  Wyoming  Sweetwater County       43806\n",
       "3138  Wyoming       Teton County       21294\n",
       "3139  Wyoming       Uinta County       21118\n",
       "3140  Wyoming    Washakie County        8533\n",
       "3141  Wyoming      Weston County        7208\n",
       "\n",
       "[3142 rows x 3 columns]"
      ]
     },
     "execution_count": 2,
     "metadata": {},
     "output_type": "execute_result"
    }
   ],
   "source": [
    "df=pd.read_csv('benford.csv')\n",
    "df"
   ]
  },
  {
   "cell_type": "code",
   "execution_count": 3,
   "id": "05712b78",
   "metadata": {},
   "outputs": [
    {
     "data": {
      "text/html": [
       "<div>\n",
       "<style scoped>\n",
       "    .dataframe tbody tr th:only-of-type {\n",
       "        vertical-align: middle;\n",
       "    }\n",
       "\n",
       "    .dataframe tbody tr th {\n",
       "        vertical-align: top;\n",
       "    }\n",
       "\n",
       "    .dataframe thead th {\n",
       "        text-align: right;\n",
       "    }\n",
       "</style>\n",
       "<table border=\"1\" class=\"dataframe\">\n",
       "  <thead>\n",
       "    <tr style=\"text-align: right;\">\n",
       "      <th></th>\n",
       "      <th>Population</th>\n",
       "    </tr>\n",
       "  </thead>\n",
       "  <tbody>\n",
       "    <tr>\n",
       "      <th>0</th>\n",
       "      <td>54571</td>\n",
       "    </tr>\n",
       "    <tr>\n",
       "      <th>1</th>\n",
       "      <td>182265</td>\n",
       "    </tr>\n",
       "    <tr>\n",
       "      <th>2</th>\n",
       "      <td>27457</td>\n",
       "    </tr>\n",
       "    <tr>\n",
       "      <th>3</th>\n",
       "      <td>22915</td>\n",
       "    </tr>\n",
       "    <tr>\n",
       "      <th>4</th>\n",
       "      <td>57322</td>\n",
       "    </tr>\n",
       "    <tr>\n",
       "      <th>...</th>\n",
       "      <td>...</td>\n",
       "    </tr>\n",
       "    <tr>\n",
       "      <th>3137</th>\n",
       "      <td>43806</td>\n",
       "    </tr>\n",
       "    <tr>\n",
       "      <th>3138</th>\n",
       "      <td>21294</td>\n",
       "    </tr>\n",
       "    <tr>\n",
       "      <th>3139</th>\n",
       "      <td>21118</td>\n",
       "    </tr>\n",
       "    <tr>\n",
       "      <th>3140</th>\n",
       "      <td>8533</td>\n",
       "    </tr>\n",
       "    <tr>\n",
       "      <th>3141</th>\n",
       "      <td>7208</td>\n",
       "    </tr>\n",
       "  </tbody>\n",
       "</table>\n",
       "<p>3142 rows × 1 columns</p>\n",
       "</div>"
      ],
      "text/plain": [
       "      Population\n",
       "0          54571\n",
       "1         182265\n",
       "2          27457\n",
       "3          22915\n",
       "4          57322\n",
       "...          ...\n",
       "3137       43806\n",
       "3138       21294\n",
       "3139       21118\n",
       "3140        8533\n",
       "3141        7208\n",
       "\n",
       "[3142 rows x 1 columns]"
      ]
     },
     "execution_count": 3,
     "metadata": {},
     "output_type": "execute_result"
    }
   ],
   "source": [
    "df_dist=pd.DataFrame(df['Population'])\n",
    "df_dist"
   ]
  },
  {
   "cell_type": "markdown",
   "id": "29ff3bb4",
   "metadata": {},
   "source": [
    "# <center>1. First digit Benford's law"
   ]
  },
  {
   "cell_type": "markdown",
   "id": "93178964",
   "metadata": {},
   "source": [
    "### Code to compute the distributions for first digits"
   ]
  },
  {
   "cell_type": "code",
   "execution_count": 4,
   "id": "116f7103",
   "metadata": {},
   "outputs": [],
   "source": [
    "def extract_first_digit(data):\n",
    "    return data[:1]\n",
    "df_dist['Population'] = df_dist['Population'].astype(str)\n",
    "df_dist['first_digit'] = df_dist['Population'].apply(extract_first_digit)\n",
    "\n",
    "first_dist = df_dist['first_digit'].value_counts()\n",
    "first_digit = pd.DataFrame(index = first_dist.index , data = first_dist.values, columns = ['Count'])\n",
    "first_digit['Distribution'] = first_digit['Count']/len(df_dist)\n",
    "first_digit = first_digit.rename_axis('Digit').sort_values(by = ['Digit'])\n",
    "first_digit = first_digit.reset_index()"
   ]
  },
  {
   "cell_type": "markdown",
   "id": "8676d2fd",
   "metadata": {},
   "source": [
    "### Input Distribution"
   ]
  },
  {
   "cell_type": "code",
   "execution_count": 5,
   "id": "255d7198",
   "metadata": {},
   "outputs": [
    {
     "data": {
      "text/html": [
       "<div>\n",
       "<style scoped>\n",
       "    .dataframe tbody tr th:only-of-type {\n",
       "        vertical-align: middle;\n",
       "    }\n",
       "\n",
       "    .dataframe tbody tr th {\n",
       "        vertical-align: top;\n",
       "    }\n",
       "\n",
       "    .dataframe thead th {\n",
       "        text-align: right;\n",
       "    }\n",
       "</style>\n",
       "<table border=\"1\" class=\"dataframe\">\n",
       "  <thead>\n",
       "    <tr style=\"text-align: right;\">\n",
       "      <th></th>\n",
       "      <th>Digit</th>\n",
       "      <th>Count</th>\n",
       "      <th>Distribution</th>\n",
       "    </tr>\n",
       "  </thead>\n",
       "  <tbody>\n",
       "    <tr>\n",
       "      <th>0</th>\n",
       "      <td>1</td>\n",
       "      <td>953</td>\n",
       "      <td>0.303310</td>\n",
       "    </tr>\n",
       "    <tr>\n",
       "      <th>1</th>\n",
       "      <td>2</td>\n",
       "      <td>594</td>\n",
       "      <td>0.189052</td>\n",
       "    </tr>\n",
       "    <tr>\n",
       "      <th>2</th>\n",
       "      <td>3</td>\n",
       "      <td>374</td>\n",
       "      <td>0.119032</td>\n",
       "    </tr>\n",
       "    <tr>\n",
       "      <th>3</th>\n",
       "      <td>4</td>\n",
       "      <td>308</td>\n",
       "      <td>0.098027</td>\n",
       "    </tr>\n",
       "    <tr>\n",
       "      <th>4</th>\n",
       "      <td>5</td>\n",
       "      <td>213</td>\n",
       "      <td>0.067791</td>\n",
       "    </tr>\n",
       "    <tr>\n",
       "      <th>5</th>\n",
       "      <td>6</td>\n",
       "      <td>210</td>\n",
       "      <td>0.066836</td>\n",
       "    </tr>\n",
       "    <tr>\n",
       "      <th>6</th>\n",
       "      <td>7</td>\n",
       "      <td>182</td>\n",
       "      <td>0.057925</td>\n",
       "    </tr>\n",
       "    <tr>\n",
       "      <th>7</th>\n",
       "      <td>8</td>\n",
       "      <td>152</td>\n",
       "      <td>0.048377</td>\n",
       "    </tr>\n",
       "    <tr>\n",
       "      <th>8</th>\n",
       "      <td>9</td>\n",
       "      <td>156</td>\n",
       "      <td>0.049650</td>\n",
       "    </tr>\n",
       "  </tbody>\n",
       "</table>\n",
       "</div>"
      ],
      "text/plain": [
       "  Digit  Count  Distribution\n",
       "0     1    953      0.303310\n",
       "1     2    594      0.189052\n",
       "2     3    374      0.119032\n",
       "3     4    308      0.098027\n",
       "4     5    213      0.067791\n",
       "5     6    210      0.066836\n",
       "6     7    182      0.057925\n",
       "7     8    152      0.048377\n",
       "8     9    156      0.049650"
      ]
     },
     "execution_count": 5,
     "metadata": {},
     "output_type": "execute_result"
    }
   ],
   "source": [
    "first_digit"
   ]
  },
  {
   "cell_type": "markdown",
   "id": "8e87c68f",
   "metadata": {},
   "source": [
    "### Bar Plot of Digit Vs Distribution curve"
   ]
  },
  {
   "cell_type": "code",
   "execution_count": 6,
   "id": "ae856835",
   "metadata": {},
   "outputs": [
    {
     "data": {
      "image/png": "[encoded data removed]",
      "text/plain": [
       "<Figure size 800x300 with 1 Axes>"
      ]
     },
     "metadata": {
      "needs_background": "light"
     },
     "output_type": "display_data"
    }
   ],
   "source": [
    "plt.figure(figsize=(8,3),dpi=100)\n",
    "sns.barplot(data = first_digit, x = 'Digit', y = 'Distribution')\n",
    "plt.show()"
   ]
  },
  {
   "cell_type": "markdown",
   "id": "90f4679e",
   "metadata": {},
   "source": [
    "### Code to compute Benford's first digit Distribution"
   ]
  },
  {
   "cell_type": "code",
   "execution_count": 7,
   "id": "8ec76e86",
   "metadata": {},
   "outputs": [],
   "source": [
    "digit_count = [x for x in range(1,10)]\n",
    "\n",
    "benford_first_digit = [math.log(1 + (1/d),10) for d in range(1,10)]\n",
    "benfords_first_digit_dist = pd.DataFrame(benford_first_digit, index = digit_count)\n",
    "benfords_first_digit_dist.columns = ['Distribution']\n",
    "benfords_first_digit_dist = benfords_first_digit_dist.reset_index()\n",
    "benfords_first_digit_dist.columns = ['Digit','Distribution']"
   ]
  },
  {
   "cell_type": "markdown",
   "id": "6f3aafe0",
   "metadata": {},
   "source": [
    "### Benford's Distribution"
   ]
  },
  {
   "cell_type": "code",
   "execution_count": 8,
   "id": "2a65221d",
   "metadata": {},
   "outputs": [
    {
     "data": {
      "text/html": [
       "<div>\n",
       "<style scoped>\n",
       "    .dataframe tbody tr th:only-of-type {\n",
       "        vertical-align: middle;\n",
       "    }\n",
       "\n",
       "    .dataframe tbody tr th {\n",
       "        vertical-align: top;\n",
       "    }\n",
       "\n",
       "    .dataframe thead th {\n",
       "        text-align: right;\n",
       "    }\n",
       "</style>\n",
       "<table border=\"1\" class=\"dataframe\">\n",
       "  <thead>\n",
       "    <tr style=\"text-align: right;\">\n",
       "      <th></th>\n",
       "      <th>Digit</th>\n",
       "      <th>Distribution</th>\n",
       "    </tr>\n",
       "  </thead>\n",
       "  <tbody>\n",
       "    <tr>\n",
       "      <th>0</th>\n",
       "      <td>1</td>\n",
       "      <td>0.301030</td>\n",
       "    </tr>\n",
       "    <tr>\n",
       "      <th>1</th>\n",
       "      <td>2</td>\n",
       "      <td>0.176091</td>\n",
       "    </tr>\n",
       "    <tr>\n",
       "      <th>2</th>\n",
       "      <td>3</td>\n",
       "      <td>0.124939</td>\n",
       "    </tr>\n",
       "    <tr>\n",
       "      <th>3</th>\n",
       "      <td>4</td>\n",
       "      <td>0.096910</td>\n",
       "    </tr>\n",
       "    <tr>\n",
       "      <th>4</th>\n",
       "      <td>5</td>\n",
       "      <td>0.079181</td>\n",
       "    </tr>\n",
       "    <tr>\n",
       "      <th>5</th>\n",
       "      <td>6</td>\n",
       "      <td>0.066947</td>\n",
       "    </tr>\n",
       "    <tr>\n",
       "      <th>6</th>\n",
       "      <td>7</td>\n",
       "      <td>0.057992</td>\n",
       "    </tr>\n",
       "    <tr>\n",
       "      <th>7</th>\n",
       "      <td>8</td>\n",
       "      <td>0.051153</td>\n",
       "    </tr>\n",
       "    <tr>\n",
       "      <th>8</th>\n",
       "      <td>9</td>\n",
       "      <td>0.045757</td>\n",
       "    </tr>\n",
       "  </tbody>\n",
       "</table>\n",
       "</div>"
      ],
      "text/plain": [
       "   Digit  Distribution\n",
       "0      1      0.301030\n",
       "1      2      0.176091\n",
       "2      3      0.124939\n",
       "3      4      0.096910\n",
       "4      5      0.079181\n",
       "5      6      0.066947\n",
       "6      7      0.057992\n",
       "7      8      0.051153\n",
       "8      9      0.045757"
      ]
     },
     "execution_count": 8,
     "metadata": {},
     "output_type": "execute_result"
    }
   ],
   "source": [
    "benfords_first_digit_dist"
   ]
  },
  {
   "cell_type": "markdown",
   "id": "01054b62",
   "metadata": {},
   "source": [
    "### Plot the Digit Vs Distribution curve for Input as well as Benford's curve"
   ]
  },
  {
   "cell_type": "code",
   "execution_count": 9,
   "id": "68ec40ce",
   "metadata": {},
   "outputs": [
    {
     "data": {
      "image/png": "[encoded data removed]",
      "text/plain": [
       "<Figure size 800x300 with 1 Axes>"
      ]
     },
     "metadata": {
      "needs_background": "light"
     },
     "output_type": "display_data"
    }
   ],
   "source": [
    "plt.figure(figsize=(8,3),dpi=100)\n",
    "plt.plot(digit_count,first_digit['Distribution'],color='blue',lw=3,label='Input curve')\n",
    "plt.plot(digit_count,benfords_first_digit_dist['Distribution'],color='red',lw=3,label='Benfords curve')\n",
    "plt.xlabel('Digit')\n",
    "plt.ylabel('Distribution')\n",
    "plt.legend()\n",
    "plt.show()"
   ]
  },
  {
   "cell_type": "markdown",
   "id": "13a9421b",
   "metadata": {},
   "source": [
    "### As can be seen from the above plot that both the curves are overlapping, that confirms the given Input data follows first digit Benford's law "
   ]
  },
  {
   "cell_type": "code",
   "execution_count": 10,
   "id": "34a313be",
   "metadata": {},
   "outputs": [
    {
     "data": {
      "text/plain": [
       "0.004499874210189271"
      ]
     },
     "execution_count": 10,
     "metadata": {},
     "output_type": "execute_result"
    }
   ],
   "source": [
    "MAD = abs(first_digit['Distribution'] - benfords_first_digit_dist['Distribution']).mean()\n",
    "MAD"
   ]
  },
  {
   "cell_type": "markdown",
   "id": "95cb925b",
   "metadata": {},
   "source": [
    "### MAD Value : 0.004499874210189271"
   ]
  },
  {
   "cell_type": "code",
   "execution_count": 11,
   "id": "5f15b2f3",
   "metadata": {},
   "outputs": [
    {
     "data": {
      "text/plain": [
       "Power_divergenceResult(statistic=0.003383641286199644, pvalue=0.9999999999996592)"
      ]
     },
     "execution_count": 11,
     "metadata": {},
     "output_type": "execute_result"
    }
   ],
   "source": [
    "chisquare(first_digit['Distribution'], f_exp = benfords_first_digit_dist['Distribution'])"
   ]
  },
  {
   "cell_type": "markdown",
   "id": "ff37c4d1",
   "metadata": {},
   "source": [
    "### Chi Square test p value : 0.9999999999996592"
   ]
  },
  {
   "cell_type": "markdown",
   "id": "b952c94a",
   "metadata": {},
   "source": [
    "# <center>2. First Two Digits Benford's law"
   ]
  },
  {
   "cell_type": "markdown",
   "id": "871cb736",
   "metadata": {},
   "source": [
    "### Code to compute the distributions for first two digits"
   ]
  },
  {
   "cell_type": "code",
   "execution_count": 12,
   "id": "c3040c09",
   "metadata": {},
   "outputs": [],
   "source": [
    "df_dist=pd.DataFrame(df['Population'])\n",
    "\n",
    "def extract_first_two_digits(data):\n",
    "    return data[:2]\n",
    "df_dist['Population'] = df_dist['Population'].astype(str)\n",
    "df_dist['first_two'] = df_dist['Population'].apply(extract_first_two_digits)\n",
    "\n",
    "first_two_dist = df_dist['first_two'].value_counts()\n",
    "first_two_digit = pd.DataFrame(index = first_two_dist.index , data = first_two_dist.values, columns = ['Count'])\n",
    "first_two_digit['Distribution'] = first_two_digit['Count']/len(df_dist)\n",
    "first_two_digit = first_two_digit.rename_axis('Digit').sort_values(by = ['Digit'])\n",
    "first_two_digit = first_two_digit.reset_index()"
   ]
  },
  {
   "cell_type": "markdown",
   "id": "3c326580",
   "metadata": {},
   "source": [
    "### Input Distribution"
   ]
  },
  {
   "cell_type": "code",
   "execution_count": 13,
   "id": "77969b31",
   "metadata": {},
   "outputs": [
    {
     "data": {
      "text/html": [
       "<div>\n",
       "<style scoped>\n",
       "    .dataframe tbody tr th:only-of-type {\n",
       "        vertical-align: middle;\n",
       "    }\n",
       "\n",
       "    .dataframe tbody tr th {\n",
       "        vertical-align: top;\n",
       "    }\n",
       "\n",
       "    .dataframe thead th {\n",
       "        text-align: right;\n",
       "    }\n",
       "</style>\n",
       "<table border=\"1\" class=\"dataframe\">\n",
       "  <thead>\n",
       "    <tr style=\"text-align: right;\">\n",
       "      <th></th>\n",
       "      <th>Digit</th>\n",
       "      <th>Count</th>\n",
       "      <th>Distribution</th>\n",
       "    </tr>\n",
       "  </thead>\n",
       "  <tbody>\n",
       "    <tr>\n",
       "      <th>0</th>\n",
       "      <td>10</td>\n",
       "      <td>129</td>\n",
       "      <td>0.041057</td>\n",
       "    </tr>\n",
       "    <tr>\n",
       "      <th>1</th>\n",
       "      <td>11</td>\n",
       "      <td>105</td>\n",
       "      <td>0.033418</td>\n",
       "    </tr>\n",
       "    <tr>\n",
       "      <th>2</th>\n",
       "      <td>12</td>\n",
       "      <td>94</td>\n",
       "      <td>0.029917</td>\n",
       "    </tr>\n",
       "    <tr>\n",
       "      <th>3</th>\n",
       "      <td>13</td>\n",
       "      <td>117</td>\n",
       "      <td>0.037237</td>\n",
       "    </tr>\n",
       "    <tr>\n",
       "      <th>4</th>\n",
       "      <td>14</td>\n",
       "      <td>94</td>\n",
       "      <td>0.029917</td>\n",
       "    </tr>\n",
       "    <tr>\n",
       "      <th>...</th>\n",
       "      <td>...</td>\n",
       "      <td>...</td>\n",
       "      <td>...</td>\n",
       "    </tr>\n",
       "    <tr>\n",
       "      <th>85</th>\n",
       "      <td>95</td>\n",
       "      <td>13</td>\n",
       "      <td>0.004137</td>\n",
       "    </tr>\n",
       "    <tr>\n",
       "      <th>86</th>\n",
       "      <td>96</td>\n",
       "      <td>21</td>\n",
       "      <td>0.006684</td>\n",
       "    </tr>\n",
       "    <tr>\n",
       "      <th>87</th>\n",
       "      <td>97</td>\n",
       "      <td>9</td>\n",
       "      <td>0.002864</td>\n",
       "    </tr>\n",
       "    <tr>\n",
       "      <th>88</th>\n",
       "      <td>98</td>\n",
       "      <td>17</td>\n",
       "      <td>0.005411</td>\n",
       "    </tr>\n",
       "    <tr>\n",
       "      <th>89</th>\n",
       "      <td>99</td>\n",
       "      <td>13</td>\n",
       "      <td>0.004137</td>\n",
       "    </tr>\n",
       "  </tbody>\n",
       "</table>\n",
       "<p>90 rows × 3 columns</p>\n",
       "</div>"
      ],
      "text/plain": [
       "   Digit  Count  Distribution\n",
       "0     10    129      0.041057\n",
       "1     11    105      0.033418\n",
       "2     12     94      0.029917\n",
       "3     13    117      0.037237\n",
       "4     14     94      0.029917\n",
       "..   ...    ...           ...\n",
       "85    95     13      0.004137\n",
       "86    96     21      0.006684\n",
       "87    97      9      0.002864\n",
       "88    98     17      0.005411\n",
       "89    99     13      0.004137\n",
       "\n",
       "[90 rows x 3 columns]"
      ]
     },
     "execution_count": 13,
     "metadata": {},
     "output_type": "execute_result"
    }
   ],
   "source": [
    "first_two_digit"
   ]
  },
  {
   "cell_type": "markdown",
   "id": "6e31d62e",
   "metadata": {},
   "source": [
    "### Bar Plot of Digit Vs Distribution curve"
   ]
  },
  {
   "cell_type": "code",
   "execution_count": 14,
   "id": "41f29341",
   "metadata": {},
   "outputs": [
    {
     "data": {
      "image/png": "[encoded data removed]",
      "text/plain": [
       "<Figure size 2000x800 with 1 Axes>"
      ]
     },
     "metadata": {
      "needs_background": "light"
     },
     "output_type": "display_data"
    }
   ],
   "source": [
    "plt.figure(figsize=(20,8),dpi=100)\n",
    "sns.barplot(data = first_two_digit, x = 'Digit', y = 'Distribution')\n",
    "plt.xticks(rotation = 90)\n",
    "plt.show()"
   ]
  },
  {
   "cell_type": "markdown",
   "id": "d102c8a2",
   "metadata": {},
   "source": [
    "### Code to compute Benford's first two digits Distribution"
   ]
  },
  {
   "cell_type": "code",
   "execution_count": 15,
   "id": "c914525e",
   "metadata": {},
   "outputs": [],
   "source": [
    "two_digit_count = [x for x in range(10,100)]\n",
    "\n",
    "benford_two_digit = [math.log(1 + (1/d),10) for d in range(10,100)]\n",
    "benfords_two_digit_dist=pd.DataFrame(benford_two_digit, index = two_digit_count)\n",
    "benfords_two_digit_dist.columns=['Distribution']\n",
    "benfords_two_digit_dist = benfords_two_digit_dist.reset_index()\n",
    "benfords_two_digit_dist.columns = ['Digit','Distribution']"
   ]
  },
  {
   "cell_type": "markdown",
   "id": "3bf9f3a3",
   "metadata": {},
   "source": [
    "### Benford's Distribution"
   ]
  },
  {
   "cell_type": "code",
   "execution_count": 16,
   "id": "4117216e",
   "metadata": {},
   "outputs": [
    {
     "data": {
      "text/html": [
       "<div>\n",
       "<style scoped>\n",
       "    .dataframe tbody tr th:only-of-type {\n",
       "        vertical-align: middle;\n",
       "    }\n",
       "\n",
       "    .dataframe tbody tr th {\n",
       "        vertical-align: top;\n",
       "    }\n",
       "\n",
       "    .dataframe thead th {\n",
       "        text-align: right;\n",
       "    }\n",
       "</style>\n",
       "<table border=\"1\" class=\"dataframe\">\n",
       "  <thead>\n",
       "    <tr style=\"text-align: right;\">\n",
       "      <th></th>\n",
       "      <th>Digit</th>\n",
       "      <th>Distribution</th>\n",
       "    </tr>\n",
       "  </thead>\n",
       "  <tbody>\n",
       "    <tr>\n",
       "      <th>0</th>\n",
       "      <td>10</td>\n",
       "      <td>0.041393</td>\n",
       "    </tr>\n",
       "    <tr>\n",
       "      <th>1</th>\n",
       "      <td>11</td>\n",
       "      <td>0.037789</td>\n",
       "    </tr>\n",
       "    <tr>\n",
       "      <th>2</th>\n",
       "      <td>12</td>\n",
       "      <td>0.034762</td>\n",
       "    </tr>\n",
       "    <tr>\n",
       "      <th>3</th>\n",
       "      <td>13</td>\n",
       "      <td>0.032185</td>\n",
       "    </tr>\n",
       "    <tr>\n",
       "      <th>4</th>\n",
       "      <td>14</td>\n",
       "      <td>0.029963</td>\n",
       "    </tr>\n",
       "    <tr>\n",
       "      <th>...</th>\n",
       "      <td>...</td>\n",
       "      <td>...</td>\n",
       "    </tr>\n",
       "    <tr>\n",
       "      <th>85</th>\n",
       "      <td>95</td>\n",
       "      <td>0.004548</td>\n",
       "    </tr>\n",
       "    <tr>\n",
       "      <th>86</th>\n",
       "      <td>96</td>\n",
       "      <td>0.004501</td>\n",
       "    </tr>\n",
       "    <tr>\n",
       "      <th>87</th>\n",
       "      <td>97</td>\n",
       "      <td>0.004454</td>\n",
       "    </tr>\n",
       "    <tr>\n",
       "      <th>88</th>\n",
       "      <td>98</td>\n",
       "      <td>0.004409</td>\n",
       "    </tr>\n",
       "    <tr>\n",
       "      <th>89</th>\n",
       "      <td>99</td>\n",
       "      <td>0.004365</td>\n",
       "    </tr>\n",
       "  </tbody>\n",
       "</table>\n",
       "<p>90 rows × 2 columns</p>\n",
       "</div>"
      ],
      "text/plain": [
       "    Digit  Distribution\n",
       "0      10      0.041393\n",
       "1      11      0.037789\n",
       "2      12      0.034762\n",
       "3      13      0.032185\n",
       "4      14      0.029963\n",
       "..    ...           ...\n",
       "85     95      0.004548\n",
       "86     96      0.004501\n",
       "87     97      0.004454\n",
       "88     98      0.004409\n",
       "89     99      0.004365\n",
       "\n",
       "[90 rows x 2 columns]"
      ]
     },
     "execution_count": 16,
     "metadata": {},
     "output_type": "execute_result"
    }
   ],
   "source": [
    "benfords_two_digit_dist"
   ]
  },
  {
   "cell_type": "markdown",
   "id": "4ff1453c",
   "metadata": {},
   "source": [
    "### Plot the Digit Vs Distribution curve for Input as well as Benford's curve"
   ]
  },
  {
   "cell_type": "code",
   "execution_count": 17,
   "id": "058cecc6",
   "metadata": {},
   "outputs": [
    {
     "data": {
      "image/png": "[encoded data removed]",
      "text/plain": [
       "<Figure size 1000x300 with 1 Axes>"
      ]
     },
     "metadata": {
      "needs_background": "light"
     },
     "output_type": "display_data"
    }
   ],
   "source": [
    "plt.figure(figsize=(10,3),dpi=100)\n",
    "plt.plot(two_digit_count,first_two_digit['Distribution'],color='blue',lw=3,label='input curve')\n",
    "plt.plot(two_digit_count,benfords_two_digit_dist['Distribution'],color='red',lw=3,label='benfords curve')\n",
    "plt.xlabel('Digit')\n",
    "plt.ylabel('Distribution')\n",
    "plt.legend()\n",
    "plt.show()"
   ]
  },
  {
   "cell_type": "markdown",
   "id": "50879924",
   "metadata": {},
   "source": [
    "### As can be seen from the above plot that both the curves are almost overlapping, that confirms the given Input data follows first two digits Benford's law "
   ]
  },
  {
   "cell_type": "code",
   "execution_count": 18,
   "id": "dba5399b",
   "metadata": {},
   "outputs": [
    {
     "data": {
      "text/plain": [
       "0.0014317365523687318"
      ]
     },
     "execution_count": 18,
     "metadata": {},
     "output_type": "execute_result"
    }
   ],
   "source": [
    "MAD_two_digit = abs(first_two_digit['Distribution']-benfords_two_digit_dist['Distribution']).mean()\n",
    "MAD_two_digit"
   ]
  },
  {
   "cell_type": "markdown",
   "id": "805e1a6f",
   "metadata": {},
   "source": [
    "### MAD Value : 0.0014317365523687318"
   ]
  },
  {
   "cell_type": "code",
   "execution_count": 19,
   "id": "a06640ef",
   "metadata": {},
   "outputs": [
    {
     "data": {
      "text/plain": [
       "Power_divergenceResult(statistic=0.02654875114284626, pvalue=1.0)"
      ]
     },
     "execution_count": 19,
     "metadata": {},
     "output_type": "execute_result"
    }
   ],
   "source": [
    "chisquare(first_two_digit['Distribution'], f_exp=benfords_two_digit_dist['Distribution'])"
   ]
  },
  {
   "cell_type": "markdown",
   "id": "8cc6231d",
   "metadata": {},
   "source": [
    "### Chi Square test p value : 1.0"
   ]
  },
  {
   "cell_type": "code",
   "execution_count": null,
   "id": "c36fdd9a",
   "metadata": {},
   "outputs": [],
   "source": []
  }
 ],
 "metadata": {
  "kernelspec": {
   "display_name": "Python 3",
   "language": "python",
   "name": "python3"
  },
  "language_info": {
   "codemirror_mode": {
    "name": "ipython",
    "version": 3
   },
   "file_extension": ".py",
   "mimetype": "text/x-python",
   "name": "python",
   "nbconvert_exporter": "python",
   "pygments_lexer": "ipython3",
   "version": "3.8.8"
  }
 },
 "nbformat": 4,
 "nbformat_minor": 5
}
